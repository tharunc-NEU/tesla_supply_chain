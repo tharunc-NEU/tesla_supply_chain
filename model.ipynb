{
 "cells": [
  {
   "cell_type": "code",
   "execution_count": 1,
   "id": "7af9be2c-b0d6-4527-aac0-9b25d7962b28",
   "metadata": {},
   "outputs": [],
   "source": [
    "# Step 1: Connect to Database and Fetch Data\n",
    "\n",
    "\n"
   ]
  },
  {
   "cell_type": "code",
   "execution_count": 2,
   "id": "8e114a0f-8163-4528-9881-66e358569dd2",
   "metadata": {},
   "outputs": [
    {
     "name": "stdout",
     "output_type": "stream",
     "text": [
      "                                               title  \\\n",
      "0  Windward (LON:WNWD) Stock Price Up 0.4% – Here...   \n",
      "1  The Le Creuset Sale: When Retail Hype Becomes ...   \n",
      "2  Atria Investments Inc Sells 2,215 Shares of SP...   \n",
      "3  What is Cormark’s Forecast for Cresco Labs FY2...   \n",
      "4  Bitcoin Exchange Reserves Hit 5-Year Low—What ...   \n",
      "\n",
      "                                         description         publishedAt  \n",
      "0  Windward Ltd. (LON:WNWD – Get Free Report) sho... 2024-11-16 08:44:56  \n",
      "1  Shoppers queued for hours in freezing conditio... 2024-11-16 08:44:19  \n",
      "2  Atria Investments Inc lowered its position in ... 2024-11-16 08:43:02  \n",
      "3  Cresco Labs Inc. (OTCMKTS:CRLBF – Free Report)... 2024-11-16 08:40:55  \n",
      "4  The Bitcoin market appears to have taken an in... 2024-11-16 08:30:40  \n"
     ]
    }
   ],
   "source": [
    "import mysql.connector\n",
    "import pandas as pd\n",
    "\n",
    "# Connect to MySQL Database\n",
    "db_connection = mysql.connector.connect(\n",
    "    host=\"127.0.0.1\",\n",
    "    user=\"root\",\n",
    "    password=\"Positivity22#\",  # Replace with your password\n",
    "    database=\"supply_chain\"\n",
    ")\n",
    "\n",
    "cursor = db_connection.cursor()\n",
    "\n",
    "# Query to select the articles data\n",
    "cursor.execute(\"SELECT title, description, published_at FROM articles\")\n",
    "\n",
    "# Fetch all rows from the database\n",
    "rows = cursor.fetchall()\n",
    "\n",
    "# Convert rows to a pandas DataFrame\n",
    "df = pd.DataFrame(rows, columns=[\"title\", \"description\", \"publishedAt\"])\n",
    "\n",
    "# Check the data\n",
    "print(df.head())\n"
   ]
  },
  {
   "cell_type": "code",
   "execution_count": 3,
   "id": "522a53e0-ab7f-4e78-a202-a7ed83765628",
   "metadata": {},
   "outputs": [],
   "source": [
    "# Step 2: Clean the Text Data"
   ]
  },
  {
   "cell_type": "code",
   "execution_count": 4,
   "id": "cb8a5302-5ae2-4d27-a427-fd8460d520f5",
   "metadata": {},
   "outputs": [
    {
     "name": "stdout",
     "output_type": "stream",
     "text": [
      "                                               title  \\\n",
      "0  Windward (LON:WNWD) Stock Price Up 0.4% – Here...   \n",
      "1  The Le Creuset Sale: When Retail Hype Becomes ...   \n",
      "2  Atria Investments Inc Sells 2,215 Shares of SP...   \n",
      "3  What is Cormark’s Forecast for Cresco Labs FY2...   \n",
      "4  Bitcoin Exchange Reserves Hit 5-Year Low—What ...   \n",
      "\n",
      "                                         description         publishedAt  \\\n",
      "0  Windward Ltd. (LON:WNWD – Get Free Report) sho... 2024-11-16 08:44:56   \n",
      "1  Shoppers queued for hours in freezing conditio... 2024-11-16 08:44:19   \n",
      "2  Atria Investments Inc lowered its position in ... 2024-11-16 08:43:02   \n",
      "3  Cresco Labs Inc. (OTCMKTS:CRLBF – Free Report)... 2024-11-16 08:40:55   \n",
      "4  The Bitcoin market appears to have taken an in... 2024-11-16 08:30:40   \n",
      "\n",
      "                                 cleaned_description  \n",
      "0  windward ltd lonwnwd  get free report shot up ...  \n",
      "1  shoppers queued for hours in freezing conditio...  \n",
      "2  atria investments inc lowered its position in ...  \n",
      "3  cresco labs inc otcmktscrlbf  free report  equ...  \n",
      "4  the bitcoin market appears to have taken an in...  \n"
     ]
    }
   ],
   "source": [
    "import re\n",
    "\n",
    "# Function to clean the text (remove special characters, lowercase, etc.)\n",
    "def clean_text(text):\n",
    "    text = text.lower()  # Convert text to lowercase\n",
    "    text = re.sub(r'http\\S+', '', text)  # Remove URLs\n",
    "    text = re.sub(r'[^a-zA-Z0-9\\s]', '', text)  # Remove special characters\n",
    "    text = text.strip()  # Remove leading/trailing spaces\n",
    "    return text\n",
    "\n",
    "# Clean the 'description' column\n",
    "df['cleaned_description'] = df['description'].apply(clean_text)\n",
    "\n",
    "# Check the cleaned data\n",
    "print(df.head())\n"
   ]
  },
  {
   "cell_type": "code",
   "execution_count": 5,
   "id": "0f34ab5e-274f-48fe-9958-e8b2e98782a8",
   "metadata": {},
   "outputs": [],
   "source": [
    "# Step 3: Apply Sentiment Analysis to Create Target Variable"
   ]
  },
  {
   "cell_type": "code",
   "execution_count": 6,
   "id": "5f2e34c9-cddc-47e3-80a7-7a81ff585660",
   "metadata": {},
   "outputs": [
    {
     "name": "stdout",
     "output_type": "stream",
     "text": [
      "                                 cleaned_description  sentiment  demand\n",
      "0  windward ltd lonwnwd  get free report shot up ...   0.102500       1\n",
      "1  shoppers queued for hours in freezing conditio...  -0.063333       0\n",
      "2  atria investments inc lowered its position in ...   0.225000       1\n",
      "3  cresco labs inc otcmktscrlbf  free report  equ...   0.400000       1\n",
      "4  the bitcoin market appears to have taken an in...   0.400000       1\n"
     ]
    }
   ],
   "source": [
    "from textblob import TextBlob\n",
    "\n",
    "# Function to apply sentiment analysis and create 'sentiment' column\n",
    "def get_sentiment(text):\n",
    "    blob = TextBlob(text)\n",
    "    return blob.sentiment.polarity  # Range: -1 to 1\n",
    "\n",
    "# Apply sentiment analysis to the cleaned descriptions\n",
    "df['sentiment'] = df['cleaned_description'].apply(get_sentiment)\n",
    "\n",
    "# Create synthetic target variable 'demand' based on sentiment (positive sentiment = high demand)\n",
    "df['demand'] = df['sentiment'].apply(lambda x: 1 if x > 0 else 0)\n",
    "\n",
    "# Check the resulting dataframe to ensure 'demand' is correctly created\n",
    "print(df[['cleaned_description', 'sentiment', 'demand']].head())\n",
    "\n"
   ]
  },
  {
   "cell_type": "code",
   "execution_count": 8,
   "id": "70fbcd49-0365-4a6f-be4e-3af95ffe0344",
   "metadata": {},
   "outputs": [],
   "source": [
    "# Step 4: TF-IDF Vectorization"
   ]
  },
  {
   "cell_type": "code",
   "execution_count": 9,
   "id": "3e4f9c54-1aba-42bc-aa91-12dc708b3b05",
   "metadata": {},
   "outputs": [
    {
     "name": "stdout",
     "output_type": "stream",
     "text": [
      "TF-IDF Matrix (First few rows):\n",
      "   003  039        04   10  100  1069  107   11  113  11383  ...  worldwide  \\\n",
      "0  0.0  0.0  0.202172  0.0  0.0   0.0  0.0  0.0  0.0    0.0  ...        0.0   \n",
      "1  0.0  0.0  0.000000  0.0  0.0   0.0  0.0  0.0  0.0    0.0  ...        0.0   \n",
      "2  0.0  0.0  0.000000  0.0  0.0   0.0  0.0  0.0  0.0    0.0  ...        0.0   \n",
      "3  0.0  0.0  0.000000  0.0  0.0   0.0  0.0  0.0  0.0    0.0  ...        0.0   \n",
      "4  0.0  0.0  0.000000  0.0  0.0   0.0  0.0  0.0  0.0    0.0  ...        0.0   \n",
      "\n",
      "   worst  worth  writi  writings   xi  year  years  ymbon  york  \n",
      "0    0.0    0.0    0.0       0.0  0.0   0.0    0.0    0.0   0.0  \n",
      "1    0.0    0.0    0.0       0.0  0.0   0.0    0.0    0.0   0.0  \n",
      "2    0.0    0.0    0.0       0.0  0.0   0.0    0.0    0.0   0.0  \n",
      "3    0.0    0.0    0.0       0.0  0.0   0.0    0.0    0.0   0.0  \n",
      "4    0.0    0.0    0.0       0.0  0.0   0.0    0.0    0.0   0.0  \n",
      "\n",
      "[5 rows x 1000 columns]\n"
     ]
    }
   ],
   "source": [
    "from sklearn.feature_extraction.text import TfidfVectorizer\n",
    "\n",
    "# Initialize the TF-IDF Vectorizer\n",
    "vectorizer = TfidfVectorizer(max_features=1000, stop_words='english')  # Limit to top 1000 features\n",
    "\n",
    "# Convert the text to TF-IDF features\n",
    "X_tfidf = vectorizer.fit_transform(df['cleaned_description'])\n",
    "\n",
    "# Convert the TF-IDF matrix to a DataFrame for easier inspection\n",
    "tfidf_df = pd.DataFrame(X_tfidf.toarray(), columns=vectorizer.get_feature_names_out())\n",
    "print(\"TF-IDF Matrix (First few rows):\")\n",
    "print(tfidf_df.head())\n"
   ]
  },
  {
   "cell_type": "code",
   "execution_count": 10,
   "id": "da1ff3ad-8263-4a4b-8202-19cbc5b7b03e",
   "metadata": {},
   "outputs": [],
   "source": [
    "# Step 5: Train-Test Split\n"
   ]
  },
  {
   "cell_type": "code",
   "execution_count": 11,
   "id": "8b9ccf4d-997b-425b-bee4-6d911fb9c988",
   "metadata": {},
   "outputs": [
    {
     "name": "stdout",
     "output_type": "stream",
     "text": [
      "Training set size: (910, 1000)\n",
      "Test set size: (390, 1000)\n"
     ]
    }
   ],
   "source": [
    "from sklearn.model_selection import train_test_split\n",
    "\n",
    "# Prepare the features (X) and target (y)\n",
    "X = tfidf_df  # Use TF-IDF features for the model\n",
    "y = df['demand']  # Target variable based on sentiment\n",
    "\n",
    "# Split the data into training and testing sets (70% training, 30% testing)\n",
    "X_train, X_test, y_train, y_test = train_test_split(X, y, test_size=0.3, random_state=42)\n",
    "\n",
    "# Check the split\n",
    "print(f\"Training set size: {X_train.shape}\")\n",
    "print(f\"Test set size: {X_test.shape}\")\n"
   ]
  },
  {
   "cell_type": "code",
   "execution_count": 12,
   "id": "3cd55e62-3d88-4a45-b8d6-20b6b1878b6e",
   "metadata": {},
   "outputs": [],
   "source": [
    "# Step 6: Train the Random Forest Classifier"
   ]
  },
  {
   "cell_type": "code",
   "execution_count": 13,
   "id": "8da3d57e-9f62-48fb-b52b-39bebe8a7a03",
   "metadata": {},
   "outputs": [
    {
     "name": "stdout",
     "output_type": "stream",
     "text": [
      "Classification Report:\n",
      "              precision    recall  f1-score   support\n",
      "\n",
      "           0       1.00      1.00      1.00       178\n",
      "           1       1.00      1.00      1.00       212\n",
      "\n",
      "    accuracy                           1.00       390\n",
      "   macro avg       1.00      1.00      1.00       390\n",
      "weighted avg       1.00      1.00      1.00       390\n",
      "\n"
     ]
    }
   ],
   "source": [
    "from sklearn.ensemble import RandomForestClassifier\n",
    "from sklearn.metrics import classification_report\n",
    "\n",
    "# Initialize Random Forest Classifier\n",
    "clf = RandomForestClassifier(n_estimators=100, random_state=42)\n",
    "\n",
    "# Train the model on the training set\n",
    "clf.fit(X_train, y_train)\n",
    "\n",
    "# Predict the target variable on the test set\n",
    "y_pred = clf.predict(X_test)\n",
    "\n",
    "# Print evaluation metrics\n",
    "print(\"Classification Report:\")\n",
    "print(classification_report(y_test, y_pred))\n"
   ]
  },
  {
   "cell_type": "code",
   "execution_count": null,
   "id": "253c437b-159e-485a-982c-3a9f1ff80541",
   "metadata": {},
   "outputs": [],
   "source": []
  },
  {
   "cell_type": "code",
   "execution_count": null,
   "id": "c5c8bb35-d599-417c-9457-408679b77eab",
   "metadata": {},
   "outputs": [],
   "source": []
  },
  {
   "cell_type": "code",
   "execution_count": null,
   "id": "d6793426-5388-41c7-baac-4aca7daf91f2",
   "metadata": {},
   "outputs": [],
   "source": []
  },
  {
   "cell_type": "code",
   "execution_count": null,
   "id": "5ad22a9c-cd81-4bbe-90d6-5f359552d316",
   "metadata": {},
   "outputs": [],
   "source": []
  },
  {
   "cell_type": "code",
   "execution_count": null,
   "id": "7a892d8a-15f4-495c-be3a-f6d7636f2295",
   "metadata": {},
   "outputs": [],
   "source": []
  },
  {
   "cell_type": "code",
   "execution_count": null,
   "id": "55291173-03fd-4af7-9729-36467f94e641",
   "metadata": {},
   "outputs": [],
   "source": []
  },
  {
   "cell_type": "code",
   "execution_count": null,
   "id": "caeee03c-691e-449e-9640-5768bd7a87c0",
   "metadata": {},
   "outputs": [],
   "source": []
  },
  {
   "cell_type": "code",
   "execution_count": null,
   "id": "8d5b0fe1-803c-44f7-b5ed-24bc93a3d5ef",
   "metadata": {},
   "outputs": [],
   "source": []
  },
  {
   "cell_type": "code",
   "execution_count": null,
   "id": "235f8fe9-e59c-445c-b06c-4dd19012f516",
   "metadata": {},
   "outputs": [],
   "source": []
  },
  {
   "cell_type": "code",
   "execution_count": null,
   "id": "1d33a6b3-0635-4d33-89c6-1c751a50001c",
   "metadata": {},
   "outputs": [],
   "source": []
  },
  {
   "cell_type": "code",
   "execution_count": null,
   "id": "4059159a-33ef-4f7c-8323-588a4afdfbe0",
   "metadata": {},
   "outputs": [],
   "source": []
  },
  {
   "cell_type": "markdown",
   "id": "21565303-86f9-4b84-8569-b03ce269e882",
   "metadata": {},
   "source": []
  }
 ],
 "metadata": {
  "kernelspec": {
   "display_name": "Python 3 (ipykernel)",
   "language": "python",
   "name": "python3"
  },
  "language_info": {
   "codemirror_mode": {
    "name": "ipython",
    "version": 3
   },
   "file_extension": ".py",
   "mimetype": "text/x-python",
   "name": "python",
   "nbconvert_exporter": "python",
   "pygments_lexer": "ipython3",
   "version": "3.9.6"
  }
 },
 "nbformat": 4,
 "nbformat_minor": 5
}
